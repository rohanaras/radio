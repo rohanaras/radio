{
 "cells": [
  {
   "cell_type": "code",
   "execution_count": 39,
   "metadata": {},
   "outputs": [],
   "source": [
    "import pandas as pd\n",
    "import sys"
   ]
  },
  {
   "cell_type": "code",
   "execution_count": 58,
   "metadata": {},
   "outputs": [],
   "source": [
    "sweep = pd.read_csv(\"st.txt\", delimiter=\",\", names=[\"Date\",\"Time\",\"hz_low\",\"hz_high\",\"hz_bin\",\"n_samples\",\"db1\",\"db2\",\"db3\",\"db4\",\"db5\"])"
   ]
  },
  {
   "cell_type": "code",
   "execution_count": 59,
   "metadata": {},
   "outputs": [
    {
     "data": {
      "text/plain": [
       "254504"
      ]
     },
     "execution_count": 59,
     "metadata": {},
     "output_type": "execute_result"
    }
   ],
   "source": [
    "sweep.dtypes\n",
    "sys.getsizeof(sweep)"
   ]
  },
  {
   "cell_type": "code",
   "execution_count": 60,
   "metadata": {},
   "outputs": [
    {
     "data": {
      "text/plain": [
       "89204"
      ]
     },
     "execution_count": 60,
     "metadata": {},
     "output_type": "execute_result"
    }
   ],
   "source": [
    "cat_columns = sweep.select_dtypes(['object']).columns\n",
    "sweep[cat_columns] = sweep[cat_columns].apply(lambda x: x.astype('category'))\n",
    "sys.getsizeof(sweep)"
   ]
  },
  {
   "cell_type": "code",
   "execution_count": 61,
   "metadata": {},
   "outputs": [
    {
     "data": {
      "text/plain": [
       "Date         category\n",
       "Time         category\n",
       "hz_low          int64\n",
       "hz_high         int64\n",
       "hz_bin        float64\n",
       "n_samples       int64\n",
       "db1           float64\n",
       "db2           float64\n",
       "db3           float64\n",
       "db4           float64\n",
       "db5           float64\n",
       "dtype: object"
      ]
     },
     "execution_count": 61,
     "metadata": {},
     "output_type": "execute_result"
    }
   ],
   "source": [
    "sweep.dtypes"
   ]
  },
  {
   "cell_type": "code",
   "execution_count": 62,
   "metadata": {},
   "outputs": [],
   "source": [
    "sweep = sweep.astype({\"hz_bin\":\"int32\"})"
   ]
  },
  {
   "cell_type": "code",
   "execution_count": 63,
   "metadata": {},
   "outputs": [
    {
     "data": {
      "text/plain": [
       "48404"
      ]
     },
     "execution_count": 63,
     "metadata": {},
     "output_type": "execute_result"
    }
   ],
   "source": [
    "float_cols = sweep.select_dtypes(['float64']).columns\n",
    "sweep[float_cols] = sweep[float_cols].apply(lambda x: x.astype('float16'))\n",
    "sys.getsizeof(sweep)"
   ]
  },
  {
   "cell_type": "code",
   "execution_count": 64,
   "metadata": {},
   "outputs": [
    {
     "data": {
      "text/plain": [
       "34004"
      ]
     },
     "execution_count": 64,
     "metadata": {},
     "output_type": "execute_result"
    }
   ],
   "source": [
    "    int_cols = sweep.select_dtypes(['int64']).columns\n",
    "    sweep[int_cols] = sweep[int_cols].apply(lambda x: x.astype('int32'))\n",
    "sys.getsizeof(sweep)"
   ]
  },
  {
   "cell_type": "code",
   "execution_count": 67,
   "metadata": {},
   "outputs": [
    {
     "data": {
      "text/plain": [
       "Date         category\n",
       "Time         category\n",
       "hz_low          int32\n",
       "hz_high         int32\n",
       "hz_bin          int32\n",
       "n_samples       int32\n",
       "db1           float16\n",
       "db2           float16\n",
       "db3           float16\n",
       "db4           float16\n",
       "db5           float16\n",
       "dtype: object"
      ]
     },
     "execution_count": 67,
     "metadata": {},
     "output_type": "execute_result"
    }
   ],
   "source": [
    "sweep.dtypes"
   ]
  },
  {
   "cell_type": "code",
   "execution_count": null,
   "metadata": {},
   "outputs": [],
   "source": []
  }
 ],
 "metadata": {
  "kernelspec": {
   "display_name": "Python 3",
   "language": "python",
   "name": "python3"
  },
  "language_info": {
   "codemirror_mode": {
    "name": "ipython",
    "version": 3
   },
   "file_extension": ".py",
   "mimetype": "text/x-python",
   "name": "python",
   "nbconvert_exporter": "python",
   "pygments_lexer": "ipython3",
   "version": "3.7.3"
  }
 },
 "nbformat": 4,
 "nbformat_minor": 2
}
